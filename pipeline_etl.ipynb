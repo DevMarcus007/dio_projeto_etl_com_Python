{
 "cells": [
  {
   "cell_type": "code",
   "execution_count": 1,
   "metadata": {},
   "outputs": [],
   "source": [
    "import pandas as pd"
   ]
  },
  {
   "cell_type": "code",
   "execution_count": 2,
   "metadata": {},
   "outputs": [],
   "source": [
    "# vendas_tesouro_direto = pd.read_csv('VendasTesouroDireto.csv', sep=';')\n",
    "# preco_taxa_tesouro_direto = pd.read_csv('PrecoTaxaTesouroDireto.csv', sep=';')\n",
    "\n",
    "vendas_tesouro_direto = pd.read_csv('https://www.tesourotransparente.gov.br/ckan/dataset/f0468ecc-ae97-4287-89c2-6d8139fb4343/resource/e5f90e3a-8f8d-4895-9c56-4bb2f7877920/download/VendasTesouroDireto.csv', sep=';')\n",
    "\n",
    "preco_taxa_tesouro_direto = pd.read_csv('https://www.tesourotransparente.gov.br/ckan/dataset/df56aa42-484a-4a59-8184-7676580c81e3/resource/796d2059-14e9-44e3-80c9-2d9e30b405c1/download/PrecoTaxaTesouroDireto.csv', sep=';')"
   ]
  },
  {
   "cell_type": "code",
   "execution_count": 3,
   "metadata": {},
   "outputs": [],
   "source": [
    "def ajusta_separador(valor):\n",
    "    \"\"\"Função que ajusta o separador de valor decimal de virgula para ponto\"\"\"\n",
    "    if ',' in valor:\n",
    "        valor = valor.replace(',', '.')\n",
    "    return float(valor)"
   ]
  },
  {
   "cell_type": "code",
   "execution_count": 4,
   "metadata": {},
   "outputs": [],
   "source": [
    "#Criaçãoi de dicionario com o nome do dataframe e as colunas que necessitam do ajuste de separador de numeros reais.\n",
    "colunas_modify = {'vendas_tesouro_direto':['PU', 'Quantidade', 'Valor'],\n",
    "                  'preco_taxa_tesouro_direto': ['Taxa Compra Manha', 'Taxa Venda Manha', 'PU Compra Manha',\n",
    "                                            'PU Venda Manha', 'PU Base Manha']}\n",
    "\n",
    "for tabela, colunas in colunas_modify.items():\n",
    "    for coluna in colunas:\n",
    "        if tabela in globals():\n",
    "            if coluna in globals()[tabela]:\n",
    "                globals()[tabela][coluna] = [ajusta_separador(valor) for valor in globals()[tabela][coluna]]\n",
    "\n",
    "\n",
    "#Transformação das datas em objetos datetime.\n",
    "vendas_tesouro_direto[\"Data Venda\"] = pd.to_datetime(vendas_tesouro_direto[\"Data Venda\"], dayfirst=True)\n",
    "vendas_tesouro_direto[\"Vencimento do Titulo\"] = pd.to_datetime(vendas_tesouro_direto[\"Vencimento do Titulo\"], dayfirst=True)\n",
    "\n",
    "preco_taxa_tesouro_direto[\"Data Base\"] = pd.to_datetime(preco_taxa_tesouro_direto[\"Data Base\"], dayfirst=True)\n",
    "preco_taxa_tesouro_direto[\"Data Vencimento\"] = pd.to_datetime(preco_taxa_tesouro_direto[\"Data Vencimento\"], dayfirst=True)"
   ]
  },
  {
   "cell_type": "code",
   "execution_count": null,
   "metadata": {},
   "outputs": [],
   "source": [
    "#Persistência dos dados\n",
    "vendas_tesouro_direto.to_csv('VendasTesouroDireto_ETL.csv')\n",
    "preco_taxa_tesouro_direto.to_csv('PrecoTaxaTesouroDireto_ETL.csv')"
   ]
  }
 ],
 "metadata": {
  "kernelspec": {
   "display_name": "base",
   "language": "python",
   "name": "python3"
  },
  "language_info": {
   "codemirror_mode": {
    "name": "ipython",
    "version": 3
   },
   "file_extension": ".py",
   "mimetype": "text/x-python",
   "name": "python",
   "nbconvert_exporter": "python",
   "pygments_lexer": "ipython3",
   "version": "3.9.13"
  },
  "orig_nbformat": 4
 },
 "nbformat": 4,
 "nbformat_minor": 2
}
