{
 "cells": [
  {
   "cell_type": "code",
   "execution_count": 1,
   "metadata": {},
   "outputs": [],
   "source": [
    "import pandas as pd"
   ]
  },
  {
   "cell_type": "code",
   "execution_count": 66,
   "metadata": {},
   "outputs": [],
   "source": [
    "vendas_tesouro_direto = pd.read_csv('VendasTesouroDireto.csv', sep=';')\n",
    "preco_taxa_tesouro_direto = pd.read_csv('PrecoTaxaTesouroDireto.csv', sep=';')"
   ]
  },
  {
   "cell_type": "code",
   "execution_count": 67,
   "metadata": {},
   "outputs": [],
   "source": [
    "def ajusta_separador(valor):\n",
    "    \"\"\"Função que ajusta o separador de valor decimal de virgula para ponto\"\"\"\n",
    "    if ',' in valor:\n",
    "        valor = valor.replace(',', '.')\n",
    "    return float(valor)"
   ]
  },
  {
   "cell_type": "code",
   "execution_count": 68,
   "metadata": {},
   "outputs": [],
   "source": [
    "colunas_modify = {'vendas_tesouro_direto':['PU', 'Quantidade', 'Valor'],\n",
    "                  'preco_taxa_tesouro_direto': ['Taxa Compra Manha', 'Taxa Venda Manha', 'PU Compra Manha',\n",
    "                                            'PU Venda Manha', 'PU Base Manha']}\n",
    "\n",
    "for tabela, colunas in colunas_modify.items():\n",
    "    for coluna in colunas:\n",
    "        if tabela in globals():\n",
    "            if coluna in globals()[tabela]:\n",
    "                globals()[tabela][coluna] = [ajusta_separador(valor) for valor in globals()[tabela][coluna]]\n",
    "\n",
    "vendas_tesouro_direto[\"Data Venda\"] = pd.to_datetime(vendas_tesouro_direto[\"Data Venda\"], dayfirst=True)\n",
    "vendas_tesouro_direto[\"Vencimento do Titulo\"] = pd.to_datetime(vendas_tesouro_direto[\"Vencimento do Titulo\"], dayfirst=True)\n",
    "\n",
    "preco_taxa_tesouro_direto[\"Data Base\"] = pd.to_datetime(preco_taxa_tesouro_direto[\"Data Base\"], dayfirst=True)\n",
    "preco_taxa_tesouro_direto[\"Data Vencimento\"] = pd.to_datetime(preco_taxa_tesouro_direto[\"Data Vencimento\"], dayfirst=True)"
   ]
  },
  {
   "cell_type": "code",
   "execution_count": null,
   "metadata": {},
   "outputs": [],
   "source": [
    "vendas_tesouro_direto.to_csv('VendasTesouroDireto_ETL.csv')\n",
    "preco_taxa_tesouro_direto.to_csv('PrecoTaxaTesouroDireto_ETL.csv')"
   ]
  }
 ],
 "metadata": {
  "kernelspec": {
   "display_name": "base",
   "language": "python",
   "name": "python3"
  },
  "language_info": {
   "codemirror_mode": {
    "name": "ipython",
    "version": 3
   },
   "file_extension": ".py",
   "mimetype": "text/x-python",
   "name": "python",
   "nbconvert_exporter": "python",
   "pygments_lexer": "ipython3",
   "version": "3.9.13"
  },
  "orig_nbformat": 4
 },
 "nbformat": 4,
 "nbformat_minor": 2
}
